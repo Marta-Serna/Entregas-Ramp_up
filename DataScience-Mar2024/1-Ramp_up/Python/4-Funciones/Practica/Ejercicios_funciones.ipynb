{
 "cells": [
  {
   "cell_type": "markdown",
   "metadata": {},
   "source": [
    "![imagen](./img/ejercicios.png)"
   ]
  },
  {
   "cell_type": "markdown",
   "metadata": {},
   "source": [
    "# Ejercicios funciones\n",
    "## Ejercicio 1\n",
    "Escribe una función que convierta números del 1 al 7 en nombres de los dias de la semana. La función constará de un único argumento numérico y una salida de tipo string"
   ]
  },
  {
   "cell_type": "code",
   "execution_count": 26,
   "metadata": {},
   "outputs": [
    {
     "data": {
      "text/plain": [
       "'Domingo'"
      ]
     },
     "execution_count": 26,
     "metadata": {},
     "output_type": "execute_result"
    }
   ],
   "source": [
    " \n",
    "def dias_semana(num):\n",
    "    if num == 1:\n",
    "        dia_semana = 'Lunes'\n",
    "    elif num == 2:\n",
    "        dia_semana = 'Martes'\n",
    "    elif num == 3:\n",
    "        dia_semana = 'Miércoles'\n",
    "    elif num == 4:\n",
    "        dia_semana = 'Jueves'\n",
    "    elif num == 5:\n",
    "        dia_semana = 'Viernes'\n",
    "    elif num == 6:\n",
    "        dia_semana = 'Sábado'\n",
    "    elif num == 7:\n",
    "        dia_semana = 'Domingo'\n",
    "    else:\n",
    "        print('Introduce un número del 1 al 7')\n",
    "    return dia_semana\n",
    "\n",
    "dias_semana(7)\n",
    "\n",
    "#\n",
    "dias = {1: \"Lunes\", 2:\"Martes\"}\n",
    "def dia2dia(numero_dia):\n",
    "    return dias.get(numero_dia, \"no hay dia\") #el get evita que pete, solo se usa para dicc\n",
    "#\n",
    "def dia2dia(numero_dia):\n",
    "    if numero_dia in dia: \n",
    "        return dias[numero_dia]\n",
    "    else: \n",
    "        return \"No hay dia\""
   ]
  },
  {
   "cell_type": "markdown",
   "metadata": {},
   "source": [
    "## Ejercicio 2\n",
    "En el ejercicio 8 de flujos de control, creábamos una pirámide invertida de números desde el 5. Crea una función que replique el comportamiento de la pirámide, y utiliza un único parámetro de entrada de la función para determinar el número de filas de la pirámide."
   ]
  },
  {
   "cell_type": "code",
   "execution_count": 196,
   "metadata": {},
   "outputs": [],
   "source": [
    "limite = 10\n",
    "def piramide(limite):\n",
    "    for numerin in range(limite,0,-1):\n",
    "        print(str(list(range(numerin, 0, -1))).replace(\"[\", \"\").replace(\"]\", \"\").replace(\",\", \"\"))\n",
    "    piramide(limite)\n",
    "\n",
    "# def piramide_invertida(num_filas):\n",
    "#     for numero in range(num_filas 0, -1):\n",
    "#         print(list(range(numero,0,-1)))\n",
    "\n",
    "# piramide_invertida(2)"
   ]
  },
  {
   "cell_type": "markdown",
   "metadata": {},
   "source": [
    "## Ejercicio 3\n",
    "Escribe una función que compare dos números. La función tiene dos argumentos y hay tres salidas posibles: que sean iguales, que el primero sea  mayor que el segundo, o que el segundo sea mayor que el primero"
   ]
  },
  {
   "cell_type": "code",
   "execution_count": 32,
   "metadata": {},
   "outputs": [
    {
     "name": "stdout",
     "output_type": "stream",
     "text": [
      "El primero es mayor que el segundo\n"
     ]
    }
   ],
   "source": [
    "\n",
    "def comparacion(num1, num2):\n",
    "    if num1 > num2:\n",
    "        output = print(\"El primero es mayor que el segundo\")\n",
    "    elif num1 < num2:\n",
    "        output = print(\"El primero es menor que el segundo\")\n",
    "    elif num1 == num2:\n",
    "        output = print(\"El primero es igual que el segundo\")\n",
    "    return output \n",
    "\n",
    "    #poner return \"iguales\" o return \"mayor que\" en vez del print\n",
    "\n",
    "comparacion(3,1)"
   ]
  },
  {
   "attachments": {},
   "cell_type": "markdown",
   "metadata": {},
   "source": [
    "## Ejercicio 4\n",
    "Escribe una función que sea un contador de letras. En el primer argumento tienes que introducir un texto, y el segundo que sea una letra que contar. La función tiene que devolver un entero con el número de veces que aparece esa letra, tanto mayúscula, como minúscula"
   ]
  },
  {
   "cell_type": "code",
   "execution_count": 3,
   "metadata": {},
   "outputs": [
    {
     "data": {
      "text/plain": [
       "1"
      ]
     },
     "execution_count": 3,
     "metadata": {},
     "output_type": "execute_result"
    }
   ],
   "source": [
    "#añadir mayusculas y minusc\n",
    "#elemento es distinto porque no  puede coincidir el nombre con los args de la f\n",
    "def contador_letras(texto,letra):\n",
    "    for elemento in texto:\n",
    "        numero_veces = texto.count(letra)\n",
    "    return numero_veces\n",
    "\n",
    "contador_letras(\"Alabama\", \"m\")\n",
    "\n",
    "######\n",
    "def contador_letras(text,letra):\n",
    "    text = text.lower()\n",
    "    letra = letra.lower()\n",
    "    return letra, text.count(letra)\n",
    "\n",
    "###### volver a ver explic\n",
    "def contador_letra(text, letra, case_sensitive=False):\n",
    "    if not case_sensitive:\n",
    "        text = text.lower()\n",
    "        letra = letra.lower()\n",
    "    count = 0\n",
    "    for char in text:\n",
    "        if char == letra:\n",
    "            count +=1\n",
    "    return letra, count"
   ]
  },
  {
   "cell_type": "markdown",
   "metadata": {},
   "source": [
    "## Ejercicio 5\n",
    "Escribe una función que tenga un único argumento, un string. La salida de la función tiene que ser un diccionario con el conteo de todas las letras de ese string, siendo la clave la letra y el valor el conteo."
   ]
  },
  {
   "cell_type": "code",
   "execution_count": 4,
   "metadata": {},
   "outputs": [
    {
     "data": {
      "text/plain": [
       "{'m': 1, 'a': 2, 'r': 1, 'o': 1, 'l': 1, ' ': 1, 'i': 1, 'p': 1, 'h': 1}"
      ]
     },
     "execution_count": 4,
     "metadata": {},
     "output_type": "execute_result"
    }
   ],
   "source": [
    "\n",
    "#set(\"hola\") lo divide a list pero éste se queda solo con los únicos\n",
    "\n",
    "\n",
    "# conteo_letras = {}\n",
    "# def contar_letras(string):\n",
    "#     for letra in string:\n",
    "#         if letra in conteo_letras:\n",
    "#             conteo_letras.append[letra]=+1\n",
    "#         else:\n",
    "#             conteo_letras.append[letra] = 1\n",
    "#     return conteo_letras\n",
    "# contar_letras(\"Hola\")\n",
    "\n",
    "\n",
    "def contador_letras(text):\n",
    "    output = {}\n",
    "    text = text.lower()\n",
    "    for char in set(text):\n",
    "        # print(char, text.count(char))\n",
    "        output[char] = text.count(char)\n",
    "    return output\n",
    "        \n",
    "contador_letras(\"hola prima\")"
   ]
  },
  {
   "cell_type": "markdown",
   "metadata": {},
   "source": [
    "## Ejercicio 6\n",
    "Escribir una función que añada o elimine elementos en una lista. La función necesita los siguientes argumentos:\n",
    "* lista: la lista donde se añadirán o eliminarán los elementos\n",
    "* comando: \"add\" o \"remove\"\n",
    "* elemento: Por defecto es None.\n",
    "\n",
    "Tendrá como salida la lista"
   ]
  },
  {
   "cell_type": "code",
   "execution_count": 191,
   "metadata": {},
   "outputs": [
    {
     "data": {
      "text/plain": [
       "[[2, 4, 6]]"
      ]
     },
     "execution_count": 191,
     "metadata": {},
     "output_type": "execute_result"
    }
   ],
   "source": [
    "def añadir_eliminar_elementos(lista, comando, elemento=None):\n",
    "    lista = []\n",
    "    if comando == \"add\":\n",
    "        lista.append(elemento)\n",
    "    elif comando == \"remove\":\n",
    "        lista.remove(elemento)\n",
    "    return lista\n",
    "\n",
    "añadir_eliminar_elementos([], \"add\", [2,4,6])"
   ]
  },
  {
   "cell_type": "markdown",
   "metadata": {},
   "source": [
    "## Ejercicio 7\n",
    "Crea una función que reciba un número arbitrario de palabras, y devuelva una frase completa, separando las palabras con espacios."
   ]
  },
  {
   "cell_type": "code",
   "execution_count": 186,
   "metadata": {},
   "outputs": [
    {
     "data": {
      "text/plain": [
       "'está hecho!'"
      ]
     },
     "execution_count": 186,
     "metadata": {},
     "output_type": "execute_result"
    }
   ],
   "source": [
    "def frase(*args):\n",
    "   concat= ' '.join(args)\n",
    "   return concat\n",
    "\n",
    "frase(\"está\", \"hecho!\")"
   ]
  },
  {
   "cell_type": "markdown",
   "metadata": {},
   "source": [
    "## Ejercicio 8\n",
    "Escribe un programa que obtenga el enésimo número de la [serie de Fibonacci](https://es.wikipedia.org/wiki/Sucesi%C3%B3n_de_Fibonacci). Tienes que crear una función recursiva con un único argumento.\n",
    "\n",
    "```Python\n",
    "fibonacci(2) = 1\n",
    "fibonacci(4) = 3\n",
    "fibonacci(5) = 5\n",
    "fibonacci(8) = 21\n",
    "```"
   ]
  },
  {
   "attachments": {},
   "cell_type": "markdown",
   "metadata": {},
   "source": [
    "fibonacci(n) = fibonacci(n-1) + fibonacci(n-2)"
   ]
  },
  {
   "cell_type": "code",
   "execution_count": null,
   "metadata": {},
   "outputs": [],
   "source": []
  },
  {
   "attachments": {},
   "cell_type": "markdown",
   "metadata": {},
   "source": [
    "## Ejercicio 9\n",
    "Define en una única celda las siguientes funciones:\n",
    "* Función que calcule el área de un cuadrado\n",
    "* Función que calcule el área de un triángulo\n",
    "* Función que calcule el área de un círculo\n",
    "\n",
    "En otra celda, calcular el area de:\n",
    "* Dos círculos de radio 10 + un triángulo de base 3 y altura 7\n",
    "* Un cuadrado de lado = 10 + 3 círculos (uno de radio = 4 y los otros dos de radio = 6) + 5 triángulos de base = 2 + altura = 4"
   ]
  },
  {
   "cell_type": "code",
   "execution_count": 18,
   "metadata": {},
   "outputs": [
    {
     "data": {
      "text/plain": [
       "396.4601535159018"
      ]
     },
     "execution_count": 18,
     "metadata": {},
     "output_type": "execute_result"
    }
   ],
   "source": [
    "# import cmath\n",
    "\n",
    "\n",
    "# def area_cuadrado(lado):\n",
    "#     area = print(int(lado*lado))\n",
    "#     return area\n",
    "# #return lado**2\n",
    "\n",
    "# def area_triangulo(base,altura):\n",
    "#     area = print(int(base*altura/2))\n",
    "#     return area\n",
    "\n",
    "# area_triangulo(3,7)\n",
    "\n",
    "\n",
    "# def area_circulo(radio):\n",
    "#     area = cmath.pi*radio**2\n",
    "#     return radio\n",
    "\n",
    "\n",
    "\n",
    "####\n",
    "# 2 * area_circulo(10) \n",
    "#\n",
    "\n",
    "\n",
    "# def areacuadrado(numero):\n",
    "#     area = numero*numero\n",
    "#     return area\n",
    "# areacuadrado(5)\n",
    "\n",
    "# def areatriangulo(base,altura):\n",
    "#     areatriangulo = base*altura\n",
    "#     return areatriangulo\n",
    "# areatriangulo(7,2)\n",
    "\n",
    "\n",
    "import math\n",
    "\n",
    "def areacirculo(radio):\n",
    "    areacirculo = math.pi*radio**2\n",
    "    return areacirculo\n",
    "areacirculo(7)\n",
    "\n",
    "lado = 1\n",
    "def area_cuadrado(lado):\n",
    "    return lado**2\n",
    "base = 1\n",
    "altura = 1\n",
    "def area_triangulo(base, altura):\n",
    "    return base*altura/2\n",
    "radio = 1\n",
    "def area_circulo(radio):\n",
    "    return radio**2*math.pi\n",
    "2 * area_circulo(10) + area_triangulo(3,7)\n",
    "# Un cuadrado de lado = 10 + 3 círculos (uno de radio = 4 y los otros dos de radio = 6) + 5 triángulos de base = 2 + altura = 4\n",
    "\n",
    "area_cuadrado(10) +  2*area_circulo(6) + area_circulo(4) + 5 * area_triangulo(2,4)\n",
    "\n",
    "#Esto puede caer, con argumentos dinámicos\n",
    "import math\n",
    "\n",
    "def area_triangulo(base, altura):\n",
    "    return base*altura/2\n",
    "\n",
    "def area_cuadrado(lado):\n",
    "    return lado**2\n",
    "\n",
    "def area_circulo(radio):\n",
    "    return radio**2*math.pi\n",
    "\n",
    "def calculo_areas(*args, shape):\n",
    "    if shape==\"circulo\":\n",
    "        return area_circulo(args[0])\n",
    "    elif shape == \"cuadrado\":\n",
    "        return area_cuadrado(args[0])\n",
    "    elif shape == \"triangulo\":\n",
    "        return area_triangulo(args[0], args[1])\n",
    "    else:\n",
    "        return \"shape undefined\"\n",
    "\n",
    "calculo_areas(1,1, shape=\"triangulo\")\n",
    "    "
   ]
  },
  {
   "cell_type": "markdown",
   "metadata": {},
   "source": [
    "# Importar funciones"
   ]
  },
  {
   "cell_type": "code",
   "execution_count": null,
   "metadata": {},
   "outputs": [],
   "source": []
  }
 ],
 "metadata": {
  "kernelspec": {
   "display_name": "Python 3.7.4 64-bit",
   "language": "python",
   "name": "python3"
  },
  "language_info": {
   "codemirror_mode": {
    "name": "ipython",
    "version": 3
   },
   "file_extension": ".py",
   "mimetype": "text/x-python",
   "name": "python",
   "nbconvert_exporter": "python",
   "pygments_lexer": "ipython3",
   "version": "3.12.2"
  },
  "vscode": {
   "interpreter": {
    "hash": "90139cb9a825bf3d63f6f6704e828dbd1ff7edbd4d0c6e906a71235d6efc74af"
   }
  }
 },
 "nbformat": 4,
 "nbformat_minor": 4
}
