{
 "cells": [
  {
   "cell_type": "markdown",
   "metadata": {},
   "source": [
    "![imagen](./img/ejercicios.png)\n",
    "\n",
    "# Ejercicios Clases y Objetos"
   ]
  },
  {
   "attachments": {},
   "cell_type": "markdown",
   "metadata": {},
   "source": [
    "## Ejercicio 1\n",
    "Somos una empresa que tiene varias tiendas de electrodomésticos. Necesitamos un programa para manejar las tiendas, ver las ventas que han tenido, cuántos empleados hay, etc... Para ello vamos a modelizar la tienda en una clase, que tendrá las siguientes características:\n",
    "* Nombre clase: \"Tienda\"\n",
    "* Atributos comunes:\n",
    "    * Tipo: \"Electrodomésticos\"\n",
    "    * Abierta: True\n",
    "* Atributos propios de cada tienda:\n",
    "    * Nombre - String\n",
    "    * Dirección - String\n",
    "    * Número de empleados - int\n",
    "    * Ventas últimos 3 meses - Lista de 3 numeros\n",
    "* Método para calcular las ventas de todos los meses, que devuelva un número con todas las ventas.\n",
    "* Método que calcula la media de ventas de los últimos meses, por empleado\n",
    "* Método que devuelve en un string el nombre de la tienda, junto con su dirección.\n",
    "* Método que obtiene las ventas del último mes.\n",
    "* Método para dar una proyección de las ventas en caso de haber invertido X dinero en marketing en esa tienda. Siendo X el parámetro de entrada. Si X es menor de 1000, las ventas de los ultimos 3 meses hubiesen sido de (1.2 x ventas), si es mayor o igual de 1000, las ventas hubiesen sido de (1.5 x venta). El método reescribe el atributo de ventas en los últimos 3 meses, y además devuelve las ventas con el aumento.\n",
    "\n",
    "Se pide:\n",
    "1. Implementar la clase \"Tienda\"\n",
    "2. Crear tres tiendas con datos inventados\n",
    "3. Comprueba en al menos una de ellas, todo lo implementado en la clase tienda (sus atributos, media de ventas, ventas/empleado...)\n",
    "3. Calcular las ventas del último mes de todas las tiendas. Para ello usa el bucle `for`\n",
    "4. Imprime por pantalla los nombres de las tiendas cuya dirección lleve el string \"Avenida\"\n",
    "5. Seguro que ya has hecho este apartado... Documenta la clase :)"
   ]
  },
  {
   "cell_type": "code",
   "execution_count": null,
   "metadata": {},
   "outputs": [],
   "source": [
    "class Tienda:  \n",
    "    def __init__(self, nombre, direccion, empleados, ventas, tipo =\"Electrodomésticos\", abierta=True):\n",
    "        self.nombre = nombre\n",
    "        self.direccion = direccion\n",
    "        self.empleados = empleados\n",
    "        self.ventas = ventas\n",
    "        self.tipo = tipo\n",
    "        self.abierta = abierta\n",
    "        \n",
    "    def calculo_ventas(self):\n",
    "        \"\"\"Método para calcular las ventas de todos los meses, que devuelva un número con todas las ventas.\"\"\"\n",
    "        return sum(self.ventas)\n",
    "    \n",
    "    def media_ventas(self):\n",
    "        return self.calculo_ventas()/len(self.ventas)\n",
    "    \n",
    "    def media_por_empleados(self):\n",
    "        \"\"\"* Método que calcula la media de ventas de los últimos meses, por empleado\"\"\"\n",
    "\n",
    "        return self.calculo_ventas()/self.empleados\n",
    "    \n",
    "    def nombre_addr(self):\n",
    "        \"\"\"* Método que devuelve en un string el nombre de la tienda, junto con su dirección.\"\"\"\n",
    "        return self.nombre + \"\\n\" + self.direccion\n",
    "    \n",
    "    def ventas_last(self):\n",
    "        \"\"\"Método que obtiene las ventas del último mes.\"\"\"\n",
    "        return self.ventas[-1]\n",
    "    \n",
    "    \n",
    "    def proyeccion(self, X):\n",
    "        \"\"\"Método para dar una proyección de las ventas en caso de haber invertido X dinero en marketing en esa tienda. \n",
    "        Siendo X el parámetro de entrada. \n",
    "        Si X es menor de 1000, las ventas de los ultimos 3 meses hubiesen sido de (1.2 x ventas), si es mayor o igual de 1000, \n",
    "        las ventas hubiesen sido de (1.5 x venta). \n",
    "        El método reescribe el atributo de ventas en los últimos 3 meses, y además devuelve las ventas con el aumento.\"\"\"\n",
    "\n",
    "        if X<1000:\n",
    "            incremento = 1.2\n",
    "        else:\n",
    "            incremento = 1.5\n",
    "    \n",
    "        nuevas_ventas = []\n",
    "        for venta in self.ventas:\n",
    "            nuevas_ventas.append(venta*incremento)\n",
    "        self.ventas = nuevas_ventas\n",
    "        return self.ventas\n",
    "\n",
    "tienda1 = Tienda(\"a\", \"tucasa\", 4, [1,2,3])\n",
    "tienda2 = Tienda(\"b\", \"micasa\", 4, [4,5,6])\n",
    "tienda3 = Tienda(\"c\", \"nuestracasa\", 4, [7,8,9])\n",
    "\n",
    "venta_total = 0 \n",
    "for tienda in [tienda1, tienda2, tienda3]:\n",
    "    venta_total += tienda.ventas[-1]\n",
    "venta_total\n",
    "\n",
    "for tienda in [tienda1, tienda2, tienda3]:\n",
    "    if \"tu\" in tienda.direccion:\n",
    "        print(tienda.nombre)"
   ]
  },
  {
   "cell_type": "markdown",
   "metadata": {},
   "source": [
    "## Ejercicio 2\n",
    "En este ejercicio vamos a implementar una clase *Perro* en Python. La clase tiene las siguientes características:\n",
    "* Cosas que sabemos seguro que tiene un perro\n",
    "    * Tiene 4 patas\n",
    "    * 2 orejas\n",
    "    * 2 ojos\n",
    "    * Una velocidad de 0. Por defecto, el perro está parado\n",
    "* Cuando se inicialice:\n",
    "    * El perro será de una determinada raza\n",
    "    * Por defecto tendrá pelo \"Marrón\", a no ser que se diga lo contrario.\n",
    "    * Por defecto no tendrá dueño, a no ser que se diga lo contrario.\n",
    "    \n",
    "* Dispondrá también de un método llamado andar, que tiene un argumento de entrada (aumento_velocidad). Este valor se le sumará a la velocidad que ya llevaba el perro.\n",
    "* Necesita otro método (parar), donde pondremos la velocidad a 0.\n",
    "* Otro método llamado \"ladrar\", que tendrá un argumento de entrada, y la salida será el siguiente string: \"GUAU!\" + el argumento de entrada.\n",
    "\n",
    "\n",
    "Se pide:\n",
    "* Implementa la clase *Perro*\n",
    "* Crea un objeto de tipo *Perro*, sin dueño\n",
    "* Comprueba que están bien todos sus atributos\n",
    "* Prueba que ande, y comprueba su velocidad\n",
    "* Páralo\n",
    "* Documenta la clase *Perro*"
   ]
  },
  {
   "cell_type": "code",
   "execution_count": 37,
   "metadata": {},
   "outputs": [
    {
     "ename": "NameError",
     "evalue": "name 'perrogolden' is not defined",
     "output_type": "error",
     "traceback": [
      "\u001b[1;31m---------------------------------------------------------------------------\u001b[0m",
      "\u001b[1;31mNameError\u001b[0m                                 Traceback (most recent call last)",
      "Cell \u001b[1;32mIn[37], line 45\u001b[0m\n\u001b[0;32m     42\u001b[0m         \u001b[38;5;28mprint\u001b[39m(\u001b[38;5;124m\"\u001b[39m\u001b[38;5;124mcolor\u001b[39m\u001b[38;5;124m\"\u001b[39m, \u001b[38;5;28mself\u001b[39m\u001b[38;5;241m.\u001b[39mcolor)\n\u001b[0;32m     43\u001b[0m         \u001b[38;5;28mprint\u001b[39m(\u001b[38;5;124m\"\u001b[39m\u001b[38;5;124mdueño\u001b[39m\u001b[38;5;124m\"\u001b[39m, \u001b[38;5;28mself\u001b[39m\u001b[38;5;241m.\u001b[39mdueño)\n\u001b[1;32m---> 45\u001b[0m \u001b[38;5;28mprint\u001b[39m(\u001b[43mperrogolden\u001b[49m\u001b[38;5;241m.\u001b[39m\u001b[38;5;18m__dict__\u001b[39m) \u001b[38;5;66;03m#igual que checkear\u001b[39;00m\n\u001b[0;32m     47\u001b[0m perrogolden \u001b[38;5;241m=\u001b[39m Perro(raza\u001b[38;5;241m=\u001b[39m\u001b[38;5;124m\"\u001b[39m\u001b[38;5;124mgolden\u001b[39m\u001b[38;5;124m\"\u001b[39m)\n\u001b[0;32m     49\u001b[0m \u001b[38;5;28mprint\u001b[39m(perrogolden\u001b[38;5;241m.\u001b[39mandar(\u001b[38;5;241m10\u001b[39m))\n",
      "\u001b[1;31mNameError\u001b[0m: name 'perrogolden' is not defined"
     ]
    }
   ],
   "source": [
    "class Perro:\n",
    "    '''\n",
    "    Clase que representa a un perro.\n",
    "\n",
    "    Attributes:\n",
    "        patas (int): Número de patas del perro (por defecto 4).\n",
    "        orejas (int): Número de orejas del perro (por defecto 2).\n",
    "        ojos (int): Número de ojos del perro (por defecto 2).\n",
    "        velocidad (int): Velocidad actual del perro (por defecto 0).\n",
    "        raza (str): Raza del perro (por defecto \"Golden\").\n",
    "        color (str): Color del pelaje del perro (por defecto \"Marrón\").\n",
    "        dueño (bool): Indica si el perro tiene dueño o no (por defecto False).\n",
    "    '''\n",
    "\n",
    "    patas = 4\n",
    "    orejas = 2\n",
    "    ojos = 2\n",
    "    velocidad = 0\n",
    "\n",
    "\n",
    "    def __init__(self, raza, color = \"Marrón\", dueño = False):\n",
    "        self.raza = raza\n",
    "        self.color = color\n",
    "        self.dueño = dueño \n",
    "\n",
    "    def andar(self, aumento_velocidad):\n",
    "        #return aumento_velocidad+self.velocidad\n",
    "        self.velocidad += aumento_velocidad\n",
    "    \n",
    "    def parar(self):\n",
    "        return self.velocidad \n",
    "    \n",
    "    def ladrar(self, string):\n",
    "        return \"Guau\"+' '+string\n",
    "\n",
    "    def check_perro(self):\n",
    "        print(\"patas\", self.patas)\n",
    "        print(\"orejas\", self.orejas)\n",
    "        print(\"ojos\", self.ojos)\n",
    "        print(\"velocidad\", self.velocidad)\n",
    "        print(\"raza\", self.raza)\n",
    "        print(\"color\", self.color)\n",
    "        print(\"dueño\", self.dueño)\n",
    "  \n",
    "print(perrogolden.__dict__) #igual que checkear\n",
    "\n",
    "perrogolden = Perro(raza=\"golden\")\n",
    "\n",
    "print(perrogolden.andar(10))\n",
    "print(perrogolden.parar())\n",
    "print(perrogolden.ladrar(\"estoy vivo!\"))\n",
    "\n",
    "perrogolden.check_perro()\n"
   ]
  },
  {
   "cell_type": "markdown",
   "metadata": {},
   "source": [
    "Atributos:\n",
    "nombre: Nombre de la mascota (str)\n",
    "especie: Especie de la mascota (str) \"Perro\", \"Gato\", \"Conejo\", etc.\n",
    "edad: Edad de la mascota en años (int)\n",
    "hambre: Nivel de hambre de la mascota (int) 0-100 default 100\n",
    "energia: Nivel de energía de la mascota (int) 0-100 default 100\n",
    "animo: Nivel de animo de la mascota (int) 0-100 default 0\n",
    "\n",
    "\n",
    "Métodos:\n",
    "alimentar(cantidad): Reduce el hambre de la mascota en función de la cantidad de comida (hambre -= cantidad)\n",
    "jugar(duracion): Reduce la energía de la mascota y aumenta su animo en función de la duración del juego (energia -= duracion, animo += duracion), si la energia llega a cero, llamar al metodo dormir.\n",
    "dormir(duracion): Aumenta la energía de la mascota en función de la duración del sueño (energia += duracion)\n",
    "estado(): Muestra información sobre el estado actual de la mascota (nombre, especie, edad, hambre, energía, animo)'''"
   ]
  },
  {
   "cell_type": "code",
   "execution_count": 60,
   "metadata": {},
   "outputs": [
    {
     "name": "stdout",
     "output_type": "stream",
     "text": [
      "Estoy lleno\n",
      "-300\n",
      "100\n",
      "None\n",
      "{'nombre': 'Jaime', 'especie': 'ratón', 'edad': 23, 'hambre': -300, 'energia': 200, 'animo': 300}\n"
     ]
    }
   ],
   "source": [
    "class Mascota():\n",
    "\n",
    "    def __init__(self, nombre, especie, edad, hambre =100, energia=100, animo=100):\n",
    "        self.nombre = nombre\n",
    "        self.especie = especie\n",
    "        self.edad = edad\n",
    "        self.hambre = hambre\n",
    "        self.energia = energia\n",
    "        self.animo = animo\n",
    "\n",
    "    def alimentar(self, cantidad):\n",
    "        self.hambre = self.hambre -cantidad\n",
    "        if self.hambre < 0:\n",
    "            print(\"Estoy lleno\")\n",
    "        return self.hambre\n",
    "    def jugar(self, duracion):\n",
    "        self.energia = self.energia - duracion\n",
    "        self.animo = self.animo + duracion\n",
    "        if self.energia <= 0:\n",
    "            self.dormir(duracion) ######\n",
    "        return self.energia\n",
    "    def dormir(self, duracion):\n",
    "        self.energia = self.energia + duracion\n",
    "    \n",
    "    def estado(self):\n",
    "        return self.__dict__\n",
    "\n",
    "\n",
    "mascota1 = Mascota(nombre=\"Jaime\", especie = \"ratón\", edad = 23)\n",
    "\n",
    "print(mascota1.alimentar(400))\n",
    "print(mascota1.jugar(200))\n",
    "print(mascota1.dormir(100))\n",
    "print(mascota1.estado())\n"
   ]
  },
  {
   "cell_type": "code",
   "execution_count": 217,
   "metadata": {},
   "outputs": [
    {
     "name": "stdout",
     "output_type": "stream",
     "text": [
      "6\n",
      "9\n"
     ]
    }
   ],
   "source": [
    "#sumar numeros\n",
    "caos = [{\"cosas\": ([{\"clave\": [1]},{\"clave\": [2]},{\"clave\": [3]}],) }]\n",
    "\n",
    "lista = []\n",
    "for cosas in caos[0][\"cosas\"][0]:\n",
    "    for mas_cosas in cosas[\"clave\"]:\n",
    "        lista.append(mas_cosas)\n",
    "print(sum(lista))\n",
    "\n",
    "\n",
    "lista = []\n",
    "for cosas in caos[0][\"cosas\"][0]:\n",
    "    #print(cosas)\n",
    "    cosas[\"clave\"][0]\n",
    "    lista.append(cosas_nuevas)\n",
    "    suma_cosas = sum(lista)\n",
    "print(suma_cosas)\n"
   ]
  },
  {
   "cell_type": "code",
   "execution_count": 64,
   "metadata": {},
   "outputs": [
    {
     "name": "stdout",
     "output_type": "stream",
     "text": [
      "1\n",
      "2\n",
      "3\n"
     ]
    },
    {
     "data": {
      "text/plain": [
       "6"
      ]
     },
     "execution_count": 64,
     "metadata": {},
     "output_type": "execute_result"
    }
   ],
   "source": [
    "#sumar numeros\n",
    "caos = [{\"cosas\": ([{\"clave\": [1]},{\"clave\": [2]},{\"clave\": [3]}],) }]  ### GET SALE\n",
    "num = []\n",
    "for diccionarios in caos[0][\"cosas\"][0]:\n",
    "    print(diccionarios[\"clave\"][0])\n",
    "    num.append(diccionarios[\"clave\"][0])\n",
    "sum(numeritos)"
   ]
  },
  {
   "cell_type": "code",
   "execution_count": 219,
   "metadata": {},
   "outputs": [
    {
     "name": "stdout",
     "output_type": "stream",
     "text": [
      "[dict_values([10]), dict_values([10])]\n"
     ]
    }
   ],
   "source": [
    "d = [{'nombre': \"bartolo\", \"apellido\": \"ruiz\", \"edad\": 20, \"notas\": [{\"mates\": 10}, {\"lengua\": 10}]}]\n",
    "\n",
    "lista = []\n",
    "for cosas in d[0][\"notas\"]:\n",
    "    lista.append(cosas.values())\n",
    "print(lista) "
   ]
  },
  {
   "cell_type": "code",
   "execution_count": 41,
   "metadata": {},
   "outputs": [
    {
     "name": "stdout",
     "output_type": "stream",
     "text": [
      "dict_values([10])\n",
      "dict_values([10])\n",
      "dict_values([10])\n",
      "dict_values([10])\n"
     ]
    }
   ],
   "source": [
    "\n",
    "d = [{'nombre': \"bartolo\", \"apellido\": \"ruiz\", \"edad\": 20, \"notas\": [{\"mates\": 10}, {\"lengua\": 10}]}]\n",
    "\n",
    "\n",
    "for elemento in d[0][\"notas\"]:\n",
    "    print(elemento.values())\n",
    "     #porque son distintas claves, si no podriamos poner la clave \"mates\"\n",
    "\n",
    "for elemento in d[0][\"notas\"]:\n",
    "    print(elemento.values())\n"
   ]
  },
  {
   "cell_type": "markdown",
   "metadata": {},
   "source": [
    "crea una clase que se llame Meollo. Meollo solo tiene un atributo en el init \"caos\"\n",
    "-suma de los numeros\n",
    "-scramble de los numeros"
   ]
  },
  {
   "cell_type": "code",
   "execution_count": 140,
   "metadata": {},
   "outputs": [],
   "source": [
    "caos = [{\"cosas\":([{'clave': [1]}, {'clave': [2]}, {'clave': [3]}],)}]\n",
    "\n",
    "class Meollo():\n",
    "    def __init__(self,caos):\n",
    "        self.caos = caos\n",
    "\n",
    "    def sumar(self):\n",
    "        lista1 = []\n",
    "        for cosa in caos[0][\"cosas\"][0]:\n",
    "            lista1.append(cosa[\"clave\"][0])\n",
    "        suma = sum(lista1)\n",
    "        return suma\n",
    "    def scramble_numeros(self):\n",
    "        num1 = caos[0]['cosas'][0][0][\"clave\"][0]\n",
    "        num2 = caos[0]['cosas'][0][1][\"clave\"][0]\n",
    "        num3 = caos[0]['cosas'][0][2][\"clave\"][0]\n",
    "\n",
    "        num1 = num2\n",
    "        num2 = num3\n",
    "\n",
    "obj = Meollo(caos)\n",
    "obj.sumar()\n",
    "obj.scramble_numeros()\n"
   ]
  },
  {
   "cell_type": "code",
   "execution_count": 44,
   "metadata": {},
   "outputs": [
    {
     "name": "stdout",
     "output_type": "stream",
     "text": [
      "[{'cosas': ([{'clave': [1]}, {'clave': [2]}, {'clave': [3]}],)}]\n"
     ]
    }
   ],
   "source": [
    "caos = [{\"cosas\":([{'clave': [1]}, {'clave': [2]}, {'clave': [3]}],)}]\n",
    "print(caos)\n",
    "\n",
    "class Meollo:\n",
    "\n",
    "    def __init__(self,caos):\n",
    "        self.caos = caos\n",
    "\n",
    "    def check(self):\n",
    "        return self.__dic__\n",
    "\n",
    "    def suma(self):\n",
    "        lista1 = []\n",
    "        for elemento in self.caos[0][\"cosas\"][0]:\n",
    "            valores = elemento[\"clave\"][0]\n",
    "            lista1.append(valores)\n",
    "            #print(valores)\n",
    "            suma = sum(lista1)\n",
    "        return suma\n",
    "    def scramble_numeros(self):     \n",
    "        num1 = self.caos[0][\"cosas\"][0][0][\"clave\"][0]\n",
    "        num2 = self.caos[0][\"cosas\"][0][1][\"clave\"][0]\n",
    "        num3 = self.caos[0][\"cosas\"][0][2][\"clave\"][0]\n",
    "        \n",
    "        self.caos[0][\"cosas\"][0][0][\"clave\"][0] = num2\n",
    "        self.caos[0][\"cosas\"][0][1][\"clave\"][0] = num3\n",
    "        self.caos[0][\"cosas\"][0][2][\"clave\"][0] = num1\n",
    "    \n",
    "meollo = Meollo(caos)\n",
    "meollo.caos\n",
    "\n",
    "meollo.suma()\n",
    "\n",
    "meollo.scramble_numeros()\n"
   ]
  },
  {
   "cell_type": "markdown",
   "metadata": {},
   "source": [
    "Crea una clase llamada `Movil()`. Todos los móviles tendran:\n",
    "* Batería (bool) = True\n",
    "\n",
    "El resto de atributos serán particulares:\n",
    "* marca (str)\n",
    "* carga (float): porcentaje de batería de 0 a 100, por defecto 60.0\n",
    "* camara (int) : Nº de megapixels\n",
    "* memoria (int): Nº de fotos totales que se pueden almacenar\n",
    "\n",
    "1. Deberás crear el método de `cargar()`, lo que hará será incrementar la batería un 30%. Si llega al 100% no aumentará más y devolverá un mensaje de `Batería cargada`. Deberá devolver el estado de la batería tras cargar.\n",
    "2. Deberás crear el método de `hacer_foto()`, con un argumento de entrada llamado `n_fotos` de tipo entero que será el número de fotos a realizar. Cada una de esas fotos, ocuparán memoria, por lo que deberá actualizar su atributo. Deberá devolver la memoria restante, y en caso de que se quede sin memoria, no se realizarán las fotos y deberá devolver un mensaje de `Memoria insuficiente`. Documenta la clase\n",
    "\n",
    "Ahora con la clase ya creada:\n",
    "1. Crea 3 objetos a partir de la clase, un \"Samsung\" con un 45.5% de carga, un \"Xiaomi\" y un \"Apple\". Todos ellos tendrán 1000 de memoria, menos el Apple que tendrá 500.\n",
    "2. Carga los 3 móviles hasta que muestre el mensaje de que la batería está cargada y muestra por pantalla su batería. Realiza 800 fotos con los 3 móviles utilizando un `input()` y comprueba el atributo de memoria."
   ]
  },
  {
   "cell_type": "code",
   "execution_count": 170,
   "metadata": {},
   "outputs": [
    {
     "name": "stdout",
     "output_type": "stream",
     "text": [
      "memoria insuficiente\n"
     ]
    },
    {
     "data": {
      "text/plain": [
       "-300"
      ]
     },
     "execution_count": 170,
     "metadata": {},
     "output_type": "execute_result"
    }
   ],
   "source": [
    "class Movil():\n",
    "    '''\n",
    "    Batería (bool) = True\n",
    "\n",
    "    El resto de atributos serán particulares:\n",
    "    * marca (str)\n",
    "    * carga (float): porcentaje de batería de 0 a 100, por defecto 60.0\n",
    "    * camara (int) : Nº de megapixels\n",
    "    * memoria (int): Nº de fotos totales que se pueden almacenar\n",
    "    '''\n",
    "\n",
    "    def __init__(self, marca, carga, camara, memoria, bateria = True):\n",
    "            self.marca = marca\n",
    "            self.carga = carga\n",
    "            self.memoria = memoria\n",
    "            self.bateria = bateria\n",
    "        \n",
    "    '''crear el método de `cargar()`, lo que hará será incrementar la batería un 30%. \n",
    "    Si llega al 100% no aumentará más y devolverá un mensaje de `Batería cargada`.\n",
    "    Deberá devolver el estado de la batería tras cargar.'''\n",
    "    def cargar(self):\n",
    "        self.carga = self.carga*1.30\n",
    "        if self.bateria == 100:\n",
    "            print(\"bateria cargada\")\n",
    "        return self.carga\n",
    "\n",
    "    '''\n",
    "    crear el método de `hacer_foto()`, con un argumento de entrada llamado `n_fotos` de tipo entero que será el número de fotos a realizar. \n",
    "    Cada una de esas fotos, ocuparán memoria, por lo que deberá actualizar su atributo.\n",
    "    Deberá devolver la memoria restante, y en caso de que se quede sin memoria, no se realizarán las fotos y deberá devolver un mensaje de \n",
    "    Memoria insuficiente`.\n",
    "    '''\n",
    "    def hacer_foto(self,n_fotos):\n",
    "        self.memoria = self.memoria - n_fotos\n",
    "        if self.memoria <= 0:\n",
    "            print(\"memoria insuficiente\")\n",
    "        return self.memoria\n",
    "\n",
    "    '''Ahora con la clase ya creada:\n",
    "    1. Crea 3 objetos a partir de la clase, un \"Samsung\" con un 45.5% de carga, un \"Xiaomi\" y un \"Apple\". \n",
    "    Todos ellos tendrán 1000 de memoria, menos el Apple que tendrá 500.\n",
    "    2. Carga los 3 móviles hasta que muestre el mensaje de que la batería está cargada y muestra por pantalla su batería. \n",
    "    Realiza 800 fotos con los 3 móviles utilizando un `input()`\n",
    "    y comprueba el atributo de memoria.'''\n",
    "\n",
    "\n",
    "movil1 = Movil(marca = \"Iphone\", carga = 70, camara= \"100\", memoria = 500)\n",
    "movil2 = Movil(marca = \"Samsung\", carga = 45.5, camara= \"100\", memoria = 1000)\n",
    "movil3 = Movil(marca = \"Xiaomi\", carga = 70, camara= \"100\", memoria = 1000)\n",
    "\n",
    "movil1.cargar()\n",
    "movil1.hacer_foto(800)"
   ]
  },
  {
   "cell_type": "code",
   "execution_count": null,
   "metadata": {},
   "outputs": [],
   "source": [
    "Crear lista con un numero, tupla con un string y un diccionario con 3 claves (nombre, apellidos, edad)\n",
    "Muestra solo los valores de edad cuyo nombre empiece por vocal\n",
    "Si el apellido tiene más de 4 caracteres, muestra el nombre y a continuacion el string concatenado tantas veces como vale el primer numero"
   ]
  },
  {
   "cell_type": "code",
   "execution_count": 200,
   "metadata": {},
   "outputs": [
    {
     "name": "stdout",
     "output_type": "stream",
     "text": [
      "Marta MartaMartaMarta\n"
     ]
    }
   ],
   "source": [
    "lista1 = [3, (\"alabama\"), {\"nombre\": \"Marta\", \"apellidos\": \"serna\", \"edad\": \"27\"}]\n",
    "\n",
    "for cosa in lista1[2][\"nombre\"][0]:\n",
    "    if (cosa[0] == \"a\") or (cosa[0] == \"o\") or (cosa[0] == \"i\") or (cosa[0] == \"e\") or (cosa[0] == \"u\"):\n",
    "        print(lista1[2][\"edad\"])\n",
    "    if len(lista1[2][\"apellidos\"]) > 4:\n",
    "        print(lista1[2][\"nombre\"]+' '+ lista1[2][\"nombre\"]*(lista1[0])\n",
    "\n"
   ]
  },
  {
   "cell_type": "markdown",
   "metadata": {},
   "source": [
    "Nombre: Biblioteca\n",
    "#### Atributos:\n",
    "\n",
    "nombre: Nombre de la biblioteca (str)\n",
    "libros: Lista de diccionarios que representan libros (list)\n",
    "\n",
    "##### Cada diccionario tendrá las siguientes claves:\n",
    " \n",
    "titulo: Título del libro (str)\n",
    "autor: Autor del libro (str)\n",
    "genero: Género del libro (str)\n",
    "año: Año de publicación del libro (int)\n",
    "prestado: Indica si el libro está prestado (bool)\n",
    "\n",
    "\n",
    "#### Métodos:\n",
    "\n",
    "agregar_libro(titulo, autor, genero, año): Añade un nuevo libro a la lista de libros.\n",
    "prestar_libro(titulo): Cambia el estado del libro a \"prestado\" si el libro está disponible.\n",
    "devolver_libro(titulo): Cambia el estado del libro a \"disponible\".\n",
    "buscar_libro(titulo): Busca un libro por su título y devuelve el diccionario del libro si se encuentra.\n",
    "listar_libros(genero): Lista todos los libros de un género específico.\n"
   ]
  },
  {
   "cell_type": "code",
   "execution_count": 220,
   "metadata": {},
   "outputs": [
    {
     "name": "stdout",
     "output_type": "stream",
     "text": [
      "Libros de genero 'Fantasía':\n",
      "- El Principito\n"
     ]
    }
   ],
   "source": [
    "class Biblioteca:\n",
    "\n",
    "    def __init__(self, nombre):\n",
    "        self.nombre = nombre\n",
    "        self.libros = []\n",
    "\n",
    "    def agregar_libro(self, titulo, autor, genero, año):\n",
    "        libro = {\n",
    "            \"titulo\": titulo,\n",
    "            \"autor\": autor,\n",
    "            \"genero\": genero,\n",
    "            \"año\": año,\n",
    "            \"prestado\": False,\n",
    "        }\n",
    "        self.libros.append(libro)\n",
    "\n",
    "    def prestar_libro(self, titulo):\n",
    "        for libro in self.libros:\n",
    "            if libro[\"titulo\"] == titulo and not libro[\"prestado\"]:\n",
    "                libro[\"prestado\"] = True\n",
    "                return f\"Libro '{titulo}' prestado con éxito.\"\n",
    "        return f\"Libro '{titulo}' no encontrado o ya está prestado.\"\n",
    "\n",
    "    def devolver_libro(self, titulo):\n",
    "        for libro in self.libros:\n",
    "            if libro[\"titulo\"] == titulo and libro[\"prestado\"]:\n",
    "                libro[\"prestado\"] = False\n",
    "                return f\"Libro '{titulo}' devuelto con éxito.\"\n",
    "        return f\"Libro '{titulo}' no encontrado o no está prestado.\"\n",
    "\n",
    "    def buscar_libro(self, titulo):\n",
    "        for libro in self.libros:\n",
    "            if libro[\"titulo\"] == titulo:\n",
    "                return libro\n",
    "        return None\n",
    "\n",
    "    def listar_libros(self, genero=None):\n",
    "        if genero:\n",
    "            print(f\"Libros de genero '{genero}':\")\n",
    "            for libro in self.libros:\n",
    "                if libro[\"genero\"] == genero:\n",
    "                    print(f\"- {libro['titulo']}\")\n",
    "        else:\n",
    "            print(\"Todos los libros:\")\n",
    "            for libro in self.libros:\n",
    "                print(f\"- {libro['titulo']}\")\n",
    "\n",
    "# Ejemplo de uso\n",
    "\n",
    "biblioteca = Biblioteca(\"Biblioteca Pública\")\n",
    "\n",
    "biblioteca.agregar_libro(\"El Principito\", \"Antoine de Saint-Exupéry\", \"Fantasía\", 1943)\n",
    "biblioteca.agregar_libro(\"Cien años de soledad\", \"Gabriel García Márquez\", \"Realismo mágico\", 1967)\n",
    "\n",
    "biblioteca.prestar_libro(\"El Principito\")\n",
    "\n",
    "libro = biblioteca.buscar_libro(\"Cien años de soledad\")\n",
    "\n",
    "biblioteca.listar_libros(\"Fantasía\")"
   ]
  }
 ],
 "metadata": {
  "kernelspec": {
   "display_name": "Python 3.7.4 64-bit",
   "language": "python",
   "name": "python3"
  },
  "language_info": {
   "codemirror_mode": {
    "name": "ipython",
    "version": 3
   },
   "file_extension": ".py",
   "mimetype": "text/x-python",
   "name": "python",
   "nbconvert_exporter": "python",
   "pygments_lexer": "ipython3",
   "version": "3.12.2"
  },
  "vscode": {
   "interpreter": {
    "hash": "90139cb9a825bf3d63f6f6704e828dbd1ff7edbd4d0c6e906a71235d6efc74af"
   }
  }
 },
 "nbformat": 4,
 "nbformat_minor": 4
}
