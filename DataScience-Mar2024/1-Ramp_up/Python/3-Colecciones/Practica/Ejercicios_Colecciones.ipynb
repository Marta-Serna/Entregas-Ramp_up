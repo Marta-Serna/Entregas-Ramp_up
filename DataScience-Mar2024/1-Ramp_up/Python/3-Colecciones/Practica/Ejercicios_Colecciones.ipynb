{
 "cells": [
  {
   "cell_type": "markdown",
   "metadata": {},
   "source": [
    "![imagen](./img/ejercicios.png)"
   ]
  },
  {
   "cell_type": "markdown",
   "metadata": {},
   "source": [
    "## Ejercicio 1\n",
    "Dada la siguiente lista:\n",
    "> ```ejer_1 = [1,2,3,4,5]```\n",
    "\n",
    "Inviértela para que quede de la siguiente manera\n",
    "> ```ejer_1 = [5,4,3,2,1]```"
   ]
  },
  {
   "cell_type": "code",
   "execution_count": 46,
   "metadata": {},
   "outputs": [
    {
     "name": "stdout",
     "output_type": "stream",
     "text": [
      "[1, 2, 3, 4, 5]\n"
     ]
    },
    {
     "data": {
      "text/plain": [
       "[5, 4, 3, 2, 1]"
      ]
     },
     "execution_count": 46,
     "metadata": {},
     "output_type": "execute_result"
    }
   ],
   "source": [
    "ejer_1 = [1,2,3,4,5]\n",
    "print(ejer_1)\n",
    "ejer_1[::-1]\n"
   ]
  },
  {
   "cell_type": "markdown",
   "metadata": {},
   "source": [
    "## Ejercicio 2\n",
    "Eleva todos los elementos de la lista al cuadrado\n",
    "> ```ejer_2 = [1,2,3,4,5]```"
   ]
  },
  {
   "cell_type": "code",
   "execution_count": 7,
   "metadata": {},
   "outputs": [
    {
     "name": "stdout",
     "output_type": "stream",
     "text": [
      "1\n",
      "4\n",
      "9\n",
      "16\n",
      "25\n"
     ]
    }
   ],
   "source": [
    "ejer_2 = [1,2,3,4,5]\n",
    "\n",
    "for i in ejer_2:\n",
    "    print(i**2)"
   ]
  },
  {
   "cell_type": "code",
   "execution_count": 166,
   "metadata": {},
   "outputs": [
    {
     "name": "stdout",
     "output_type": "stream",
     "text": [
      "1\n",
      "4\n",
      "9\n",
      "16\n",
      "25\n"
     ]
    },
    {
     "data": {
      "text/plain": [
       "[1, 4, 9, 16, 25]"
      ]
     },
     "execution_count": 166,
     "metadata": {},
     "output_type": "execute_result"
    }
   ],
   "source": [
    "ejer_2 = [1,2,3,4,5]\n",
    "lista_nueva = []\n",
    "\n",
    "for elemento in ejer_2:\n",
    "    print(elemento**2)\n",
    "    lista_nueva.append(elemento**2)\n",
    "\n",
    "lista_nueva"
   ]
  },
  {
   "cell_type": "markdown",
   "metadata": {},
   "source": [
    "## Ejercicio 3\n",
    "Crea una lista nueva con todas las combinaciones de las siguientes dos listas:\n",
    "> ```ejer_3_1 = [\"Hola\", \"amigo\"]```\n",
    ">\n",
    "> ```ejer_3_2 = [\"Que\", \"tal\"]```\n",
    "\n",
    "Obten el siguiente output:\n",
    "\n",
    "```['Hola Que', 'Hola tal', 'amigo Que', 'amigo tal']```"
   ]
  },
  {
   "cell_type": "code",
   "execution_count": 40,
   "metadata": {},
   "outputs": [
    {
     "name": "stdout",
     "output_type": "stream",
     "text": [
      "['Hola Que', 'Hola tal', 'amigo Que', 'amigo tal']\n"
     ]
    }
   ],
   "source": [
    "ejer_3_1 = [\"Hola\", \"amigo\"]\n",
    "\n",
    "ejer_3_2 = [\"Que\", \"tal\"]\n",
    "\n",
    "lista = []\n",
    "\n",
    "for i in ejer_3_1:\n",
    "    for j in ejer_3_2:\n",
    "        combo = i + ' '+ j\n",
    "        lista.append(combo)\n",
    "print(lista)"
   ]
  },
  {
   "attachments": {},
   "cell_type": "markdown",
   "metadata": {},
   "source": [
    "## Ejercicio 4\n",
    "Dada la siguiente lista, encuentra por el índice el valor 45 y sustitúyelo por el 0\n",
    "> ```ejer_4 = [20, 47, 19, 29, 45, 67, 78, 90]```"
   ]
  },
  {
   "cell_type": "code",
   "execution_count": 49,
   "metadata": {},
   "outputs": [],
   "source": [
    "ejer_4 = [20, 47, 19, 29, 45, 67, 78, 90]\n",
    "\n"
   ]
  },
  {
   "cell_type": "code",
   "execution_count": 48,
   "metadata": {},
   "outputs": [
    {
     "name": "stdout",
     "output_type": "stream",
     "text": [
      "4\n",
      "[20, 47, 19, 29, 0, 67, 78, 90]\n"
     ]
    }
   ],
   "source": [
    "ejer_4 = [20, 47, 19, 29, 45, 67, 78, 90]\n",
    "\n",
    "print(ejer_4.index(45))\n",
    "ejer_4[4] = 0\n",
    "print(ejer_4)\n"
   ]
  },
  {
   "cell_type": "code",
   "execution_count": 50,
   "metadata": {},
   "outputs": [
    {
     "name": "stdout",
     "output_type": "stream",
     "text": [
      "4\n",
      "[20, 47, 19, 29, 0, 67, 78, 90]\n",
      "[20, 47, 19, 29, 0, 67, 78, 90]\n"
     ]
    }
   ],
   "source": [
    "ejer_4 = [20, 47, 19, 29, 45, 67, 78, 90]\n",
    "\n",
    "print(ejer_4.index(45))\n",
    "ejer_4[4] = 0\n",
    "print(ejer_4)\n",
    "\n",
    "\n",
    "# ejer_4[i] es el elemento de la lista ejer_4 en la posición actual que está siendo examinada en la iteración actual del bucle for\n",
    "# Itera sobre cada elemento y verifica si es igual a 45\n",
    "for i in range(len(ejer_4)):\n",
    "    if ejer_4[i] == 45:\n",
    "        ejer_4[i] = 0\n",
    "        break\n",
    "\n",
    "print(ejer_4)"
   ]
  },
  {
   "cell_type": "markdown",
   "metadata": {},
   "source": [
    "## Ejercicio 5\n",
    "Dada la siguiente lista, elimina todos los valores iguales a 3\n",
    "> ```ejer_5 = [3, 20, 3, 47, 19, 3, 29, 45, 67, 78, 90, 3, 3]```\n",
    "\n",
    "TIP: No intentes eliminar elementos sobre la lista que estás iterando. Haz una copia con `ejer_5.copy()`."
   ]
  },
  {
   "cell_type": "code",
   "execution_count": 69,
   "metadata": {},
   "outputs": [
    {
     "name": "stdout",
     "output_type": "stream",
     "text": [
      "[20, 47, 19, 29, 45, 67, 78, 90]\n"
     ]
    }
   ],
   "source": [
    "ejer_5 = [3, 20, 3, 47, 19, 3, 29, 45, 67, 78, 90, 3, 3]\n",
    "\n",
    "copia = ejer_5.copy()\n",
    "\n",
    "for num in range(0, copia.count(3)):\n",
    "    copia.remove(3)\n",
    "copia\n",
    "    \n",
    "\n",
    "nueva_lista = []\n",
    "for i in copia_ejer:\n",
    "    if i != 3:\n",
    "        nueva_lista.append(i)\n",
    "        # print(nueva_lista) #si dejo aqui el print se imprime la lista para cada iteracion\n",
    "print(nueva_lista)\n",
    "    "
   ]
  },
  {
   "attachments": {},
   "cell_type": "markdown",
   "metadata": {},
   "source": [
    "## Ejercicio 6\n",
    "1. Crea una tupla con 3 elementos\n",
    "2. Crea otra tupla con un elemento y comprueba su tipo\n",
    "3. Crea una tupla con elementos de diferentes tipos\n",
    "4. Imprime por pantalla el primer y último elemento de la tupla del apartado 3. Usa `len` para el último\n",
    "5. Añade un elemento a la tupla del apartado 3.\n",
    "6. Eliminar un elemento de la tupla del apartado 5, que se encuentre más o menos en la mitad.\n",
    "7. Convierte la tupla del apartado 5 en una lista"
   ]
  },
  {
   "cell_type": "code",
   "execution_count": 82,
   "metadata": {},
   "outputs": [
    {
     "name": "stdout",
     "output_type": "stream",
     "text": [
      "1\n",
      "2\n",
      "[9, 2, 3]\n",
      "1\n",
      "1\n"
     ]
    }
   ],
   "source": [
    "tupla1 = (1,2,3)\n",
    "tupla2 = (1,)\n",
    "type(tupla2)\n",
    "print(tupla1[0])\n",
    "print(len(tupla1)-1)\n",
    "\n",
    "tupla_lista = list(tupla1)\n",
    "tupla_lista[0] = 9\n",
    "print(tupla_lista)\n",
    "\n",
    "posicion_central = int(len(tupla_lista)/2)\n",
    "print(posicion_central)\n",
    "eliminar_elemento =  tupla_lista.pop(posicion_central)\n",
    "print(posicion_central)"
   ]
  },
  {
   "cell_type": "code",
   "execution_count": 22,
   "metadata": {},
   "outputs": [
    {
     "name": "stdout",
     "output_type": "stream",
     "text": [
      "[1, 2, 3]\n",
      "Hola\n",
      "Hola\n",
      "[9, 'Hola']\n",
      "([1, 2, 3], 'Hola')\n",
      "Hola\n"
     ]
    }
   ],
   "source": [
    "tupla1 = (1,2,3)\n",
    "tupla2 = (1,)\n",
    "type(tupla2)\n",
    "tupla3 = ([1,2,3], \"Hola\")\n",
    "print(tupla3[0])\n",
    "print(tupla3[len(tupla3) - 1])\n",
    "print(tupla3[-1])\n",
    "tupla4 = tupla3 +(23,)\n",
    "\n",
    "temp = list(tupla3)\n",
    "temp[0] = 9\n",
    "print(temp)\n",
    "tupla = tuple(temp)\n",
    "print(tupla3)\n",
    "\n",
    "#Eliminar un elemento de la tupla del apartado 5, que se encuentre más o menos en la mitad.\n",
    "posicion_elemento = (int(len(temp)/2))\n",
    "eliminar_elemento = temp.pop(posicion_elemento)\n",
    "print(eliminar_elemento)\n",
    "\n",
    "tupla_lista = list(tupla4)"
   ]
  },
  {
   "attachments": {},
   "cell_type": "markdown",
   "metadata": {},
   "source": [
    "## Ejercicio 7\n",
    "Concatena todos los elementos de la tupla en un único string. Para ello utiliza el metodo `.join()` de los Strings\n",
    "> ```ejer_7 = (\"cien\", \"cañones\", \"por\", \"banda\")```\n",
    "\n",
    "Resultado: `cien cañones por banda`"
   ]
  },
  {
   "cell_type": "code",
   "execution_count": 87,
   "metadata": {},
   "outputs": [
    {
     "name": "stdout",
     "output_type": "stream",
     "text": [
      "cien cañones por banda\n",
      "['cien', 'cañones', 'por', 'banda']\n"
     ]
    }
   ],
   "source": [
    "ejer_7 = (\"cien\", \"cañones\", \"por\", \"banda\")\n",
    "\n",
    "unido = ' '.join(ejer_7)\n",
    "print(unido)\n",
    "\n",
    "separado = unido.split()\n",
    "print(separado)"
   ]
  },
  {
   "cell_type": "code",
   "execution_count": 110,
   "metadata": {},
   "outputs": [
    {
     "data": {
      "text/plain": [
       "'cien cañones por banda'"
      ]
     },
     "execution_count": 110,
     "metadata": {},
     "output_type": "execute_result"
    }
   ],
   "source": [
    "#join es esolo para strings\n",
    "ejer_7 = (\"cien\", \"cañones\", \"por\", \"banda\")\n",
    "' '.join(ejer_7)#.split(\"\") Lo separa en lista\n"
   ]
  },
  {
   "cell_type": "markdown",
   "metadata": {},
   "source": [
    "## Ejercicio 8\n",
    "Obten el tercer elemento de la siguiente tupla, y el tercero empezando por la cola\n",
    "> ```ejer_8 = (3, 20, 3, 47, 19, 3, 29, 45, 67, 78, 90, 3, 3)```"
   ]
  },
  {
   "cell_type": "code",
   "execution_count": 88,
   "metadata": {},
   "outputs": [
    {
     "name": "stdout",
     "output_type": "stream",
     "text": [
      "3\n",
      "90\n"
     ]
    }
   ],
   "source": [
    "ejer_8 = (3, 20, 3, 47, 19, 3, 29, 45, 67, 78, 90, 3, 3)\n",
    "print(ejer_8[2])\n",
    "print(ejer_8[-3])\n"
   ]
  },
  {
   "cell_type": "code",
   "execution_count": 173,
   "metadata": {},
   "outputs": [
    {
     "name": "stdout",
     "output_type": "stream",
     "text": [
      "3\n",
      "90\n"
     ]
    }
   ],
   "source": [
    "ejer_8 = (3, 20, 3, 47, 19, 3, 29, 45, 67, 78, 90, 3, 3)\n",
    "list(ejer_8)\n",
    "print(ejer_8[2])\n",
    "print(ejer_8[-3])\n"
   ]
  },
  {
   "attachments": {},
   "cell_type": "markdown",
   "metadata": {},
   "source": [
    "## Ejercicio 9\n",
    "1. ¿Cuántas veces se repite el 3 en la siguiente tupla?\n",
    "2. Crea una tupla nueva con los elementos desde la posición 5 a la 10.\n",
    "3. ¿Cuántos elementos tiene la tupla `ejer_9`?\n",
    "4. Comprueba si el numero 60 está en la tupla\n",
    "> ```ejer_9 = (3, 20, 3, 47, 19, 3, 29, 45, 67, 78, 90, 3, 3, 5, 2, 4, 7, 9, 4, 2, 4, 3, 3, 4, 6, 7)```"
   ]
  },
  {
   "cell_type": "code",
   "execution_count": 107,
   "metadata": {},
   "outputs": [
    {
     "name": "stdout",
     "output_type": "stream",
     "text": [
      "7\n",
      "[3, 29, 45, 67, 78]\n",
      "(3, 29, 45, 67, 78)\n",
      "26\n",
      "No está\n",
      "No existe\n"
     ]
    }
   ],
   "source": [
    "ejer_9 = (3, 20, 3, 47, 19, 3, 29, 45, 67, 78, 90, 3, 3, 5, 2, 4, 7, 9, 4, 2, 4, 3, 3, 4, 6, 7)\n",
    "\n",
    "\n",
    "print(ejer_9.count(3))\n",
    "\n",
    "lista = []\n",
    "lista.extend(ejer_9[5:10])\n",
    "print(lista)\n",
    "tupla1 = tuple(lista)\n",
    "print(tupla1)\n",
    "\n",
    "print(len(ejer_9))\n",
    "\n",
    "for elemento in ejer_9:\n",
    "    if elemento == 60:\n",
    "        print(\"El elemento está en la tupla\")\n",
    "    else:\n",
    "        print(\"No está\")\n",
    "        break\n",
    "    \n",
    "if ejer_9.count(60):\n",
    "    print(\"Existe\")\n",
    "else:\n",
    "    print(\"No existe\")"
   ]
  },
  {
   "cell_type": "code",
   "execution_count": 4,
   "metadata": {},
   "outputs": [
    {
     "name": "stdout",
     "output_type": "stream",
     "text": [
      "7\n",
      "(3, 29, 45, 67, 78)\n",
      "26\n",
      "El elemento 60 no está en la lista\n",
      "No existe\n"
     ]
    },
    {
     "data": {
      "text/plain": [
       "False"
      ]
     },
     "execution_count": 4,
     "metadata": {},
     "output_type": "execute_result"
    }
   ],
   "source": [
    "ejer_9 = (3, 20, 3, 47, 19, 3, 29, 45, 67, 78, 90, 3, 3, 5, 2, 4, 7, 9, 4, 2, 4, 3, 3, 4, 6, 7)\n",
    "\n",
    "# 1.¿Cuántas veces se repite el 3 en la siguiente tupla?\n",
    "\n",
    "print(ejer_9.count(3))\n",
    "\n",
    "# 2. Crea una tupla nueva con los elementos desde la posición 5 a la 10.\n",
    "lista = []\n",
    "lista.extend(ejer_9[5:10])\n",
    "tupla1 = tuple(lista)\n",
    "print(tupla1)\n",
    "# 3. ¿Cuántos elementos tiene la tupla `ejer_9`?\n",
    "print(len(ejer_9))\n",
    "\n",
    "# 4. Comprueba si el numero 60 está en la tupla\n",
    "for elemento in ejer_9:\n",
    "    if elemento == 60:\n",
    "        print(\"El elemento 9 está en la lista\")\n",
    "    else:\n",
    "        print(\"El elemento 60 no está en la lista\")\n",
    "    break\n",
    "#\n",
    "if ejer_9.count(60):\n",
    "    print(\"Existe\")\n",
    "else:\n",
    "    print(\"No existe\")\n",
    "#\n",
    "60 in ejer_9\n"
   ]
  },
  {
   "attachments": {},
   "cell_type": "markdown",
   "metadata": {},
   "source": [
    "## Ejercicio 10\n",
    "1. Convierte la tupla del ejercicio 9 en una lista\n",
    "2. Convierte la tupla del ejercicio 9 en un set\n",
    "3. Convierte la tupla del ejercicio 9 en un diccionario. Usa también los índices"
   ]
  },
  {
   "cell_type": "code",
   "execution_count": 118,
   "metadata": {},
   "outputs": [
    {
     "name": "stdout",
     "output_type": "stream",
     "text": [
      "[3, 20, 3, 47, 19, 3, 29, 45, 67, 78, 90, 3, 3, 5, 2, 4, 7, 9, 4, 2, 4, 3, 3, 4, 6, 7]\n",
      "{2, 3, 67, 5, 4, 7, 6, 9, 45, 78, 47, 19, 20, 90, 29}\n",
      "0 3\n",
      "1 20\n",
      "2 3\n",
      "3 47\n",
      "4 19\n",
      "5 3\n",
      "6 29\n",
      "7 45\n",
      "8 67\n",
      "9 78\n",
      "10 90\n",
      "11 3\n",
      "12 3\n",
      "13 5\n",
      "14 2\n",
      "15 4\n",
      "16 7\n",
      "17 9\n",
      "18 4\n",
      "19 2\n",
      "20 4\n",
      "21 3\n",
      "22 3\n",
      "23 4\n",
      "24 6\n",
      "25 7\n"
     ]
    },
    {
     "data": {
      "text/plain": [
       "{3: 22,\n",
       " 20: 1,\n",
       " 47: 3,\n",
       " 19: 4,\n",
       " 29: 6,\n",
       " 45: 7,\n",
       " 67: 8,\n",
       " 78: 9,\n",
       " 90: 10,\n",
       " 5: 13,\n",
       " 2: 19,\n",
       " 4: 23,\n",
       " 7: 25,\n",
       " 9: 17,\n",
       " 6: 24}"
      ]
     },
     "execution_count": 118,
     "metadata": {},
     "output_type": "execute_result"
    }
   ],
   "source": [
    "ejer_9 = (3, 20, 3, 47, 19, 3, 29, 45, 67, 78, 90, 3, 3, 5, 2, 4, 7, 9, 4, 2, 4, 3, 3, 4, 6, 7)\n",
    "\n",
    "lista1= list(ejer_9)\n",
    "print(lista1)\n",
    "set1 = set(ejer_9)\n",
    "print(set1)\n",
    "\n",
    "dic1 = {}\n",
    "for key,value in enumerate(ejer_9):\n",
    "    print(key,value)\n",
    "\n",
    "d = dict()\n",
    "\n",
    "for indice, elemento in enumerate(ejer_9):\n",
    "    d[elemento] = indice\n",
    "d\n",
    "\n",
    "# dic1= dict(ejer_9)"
   ]
  },
  {
   "cell_type": "code",
   "execution_count": 5,
   "metadata": {},
   "outputs": [
    {
     "data": {
      "text/plain": [
       "{3: 22,\n",
       " 20: 1,\n",
       " 47: 3,\n",
       " 19: 4,\n",
       " 29: 6,\n",
       " 45: 7,\n",
       " 67: 8,\n",
       " 78: 9,\n",
       " 90: 10,\n",
       " 5: 13,\n",
       " 2: 19,\n",
       " 4: 23,\n",
       " 7: 25,\n",
       " 9: 17,\n",
       " 6: 24}"
      ]
     },
     "execution_count": 5,
     "metadata": {},
     "output_type": "execute_result"
    }
   ],
   "source": [
    "\n",
    "#Convierte la tupla del ejercicio 9 en una lista\n",
    "lista = list(ejer_9)\n",
    "# \n",
    "set(ejer_9) #elimina dups\n",
    "#\n",
    "\n",
    "d = dict()\n",
    "\n",
    "for indice, elemento in enumerate(ejer_9):\n",
    "    d[elemento] = indice\n",
    "d"
   ]
  },
  {
   "cell_type": "markdown",
   "metadata": {},
   "source": [
    "## Ejercicio 11\n",
    "Convierte la siguiente lista en un diccionario\n",
    "> ```ejer_11 = [(\"x\", 1), (\"x\", 2), (\"x\", 3), (\"y\", 1), (\"y\", 2), (\"z\", 1)]```\n",
    "\n",
    "TIP: Puedes usar dos variables de control en un bucle `for`. Una por cada valor de las tuplas."
   ]
  },
  {
   "cell_type": "code",
   "execution_count": 122,
   "metadata": {},
   "outputs": [
    {
     "name": "stdout",
     "output_type": "stream",
     "text": [
      "{0: ('x', 1), 1: ('x', 2), 2: ('x', 3), 3: ('y', 1), 4: ('y', 2), 5: ('z', 1)}\n"
     ]
    }
   ],
   "source": [
    "ejer_11 = [(\"x\", 1), (\"x\", 2), (\"x\", 3), (\"y\", 1), (\"y\", 2), (\"z\", 1)]\n",
    "\n",
    "# for i in ejer_11:\n",
    "#     print(i)\n",
    "#     for j in i:\n",
    "#         print(j)\n",
    "\n",
    "dic = {}\n",
    "\n",
    "for i, elem in enumerate(ejer_11):\n",
    "    dic[i] = elem\n",
    "\n",
    "print(dic)\n"
   ]
  },
  {
   "cell_type": "code",
   "execution_count": 7,
   "metadata": {},
   "outputs": [
    {
     "name": "stdout",
     "output_type": "stream",
     "text": [
      "{0: ('x', 1), 1: ('x', 2), 2: ('x', 3), 3: ('y', 1), 4: ('y', 2), 5: ('z', 1)}\n"
     ]
    }
   ],
   "source": [
    "ejer_11 = [(\"x\", 1), (\"x\", 2), (\"x\", 3), (\"y\", 1), (\"y\", 2), (\"z\", 1)]\n",
    "\n",
    "\n",
    "# Recorrer la lista y agregar elementos al diccionario\n",
    "dic = {}\n",
    "\n",
    "for i, elem in enumerate(ejer_11):\n",
    "    dic[i] = elem\n",
    "\n",
    "print(dic)\n",
    "\n",
    "\n",
    "#primera letra del correo tiene vocal o consonante (examen)\n",
    "#pasar a minuscula y mayusc. Recorrer claves y valor\n",
    "\n",
    "#Una forma\n",
    "d = dict()\n",
    "\n",
    "for letra, numerin in ejer_11:\n",
    "    d[letra] = numerin\n",
    "\n",
    "#recorre el diccionario y comprueba si el key ya existe. si existe la clave le añade un número al key en función de la longitud de la lista\n",
    "\n",
    "ejer_11 = [(\"x\", 1), (\"x\", 2), (\"x\", 3), (\"y\", 1), (\"y\", 2), (\"z\", 1)]\n",
    "d = dict()\n",
    "for letra, numerin in ejer_11:\n",
    "    if letra in d.keys():\n",
    "        letra = letra + str(len(d))\n",
    "    d[letra] = numerin\n",
    "\n",
    "#dentro de la lista, existe el elemento\n",
    "for letra, numerin in ejer_11:\n",
    "    if letra not in d.keys():\n",
    "        d[letra] = [numerin]\n",
    "    else:\n",
    "        d[letra].append(numerin)\n",
    "d\n"
   ]
  },
  {
   "attachments": {},
   "cell_type": "markdown",
   "metadata": {},
   "source": [
    "## Ejercicio 12\n",
    "1. Crea una lista ordenada ascendente con las claves del diccionario\n",
    "2. Crea otra lista ordenada descendente con los valores\n",
    "3. Añade una nueva clave/valor\n",
    "4. Busca la clave igual 2 dentro del diccionario\n",
    "5. Itera la clave y el valor del diccionario con un único for\n",
    "> ```ejer_12 = {4:78, 2:98, 8:234, 5:29}```"
   ]
  },
  {
   "cell_type": "code",
   "execution_count": 30,
   "metadata": {},
   "outputs": [
    {
     "name": "stdout",
     "output_type": "stream",
     "text": [
      "\n",
      "{0: 4, 1: 2, 2: 8, 3: 5}\n",
      "False\n",
      "True\n",
      "False\n",
      "False\n"
     ]
    }
   ],
   "source": [
    "print()\n",
    "\n",
    "\n",
    "\n",
    "ejer_12 = {4:78, 2:98, 8:234, 5:29}\n",
    "\n",
    "\n",
    "\n",
    "dic1 = {}\n",
    "for clave, valor in enumerate(ejer_12):\n",
    "    dic1[clave] = valor\n",
    "print(dic1)\n",
    "\n",
    "for clave, valor in ejer_12.items():\n",
    "    print(clave == 2)\n",
    "# list1 = list(ejer_12.keys())\n",
    "# print(list1)\n",
    "\n",
    "# lista_ordenada = sorted(list1)\n",
    "# print(lista_ordenada)\n",
    "\n",
    "# lista_ordenada2 = sorted(list1, reverse = True)\n",
    "# print(lista_ordenada2)\n",
    "\n",
    "# lista_ordenada3 = list1.reverse()\n",
    "# print(list1)\n",
    "\n",
    "# 2 in ejer_12"
   ]
  },
  {
   "cell_type": "markdown",
   "metadata": {},
   "source": [
    "## Ejercicio 13\n",
    "Junta ambos diccionarios. Para ello, utiliza `update`\n",
    "> ```ejer_13_1 = {1: 11, 2: 22}```\n",
    ">\n",
    "> ```ejer_13_2 = {3: 33, 4: 44}```"
   ]
  },
  {
   "cell_type": "code",
   "execution_count": null,
   "metadata": {},
   "outputs": [],
   "source": []
  },
  {
   "cell_type": "code",
   "execution_count": 158,
   "metadata": {},
   "outputs": [
    {
     "name": "stdout",
     "output_type": "stream",
     "text": [
      "{1: 11, 2: 22, 3: 33, 4: 44}\n"
     ]
    }
   ],
   "source": [
    "ejer_13_1 = {1: 11, 2: 22}\n",
    "ejer_13_2 = {3: 33, 4: 44}\n",
    "\n",
    "ejer_13_1.update(ejer_13_2)\n",
    "print(ejer_13_1)"
   ]
  },
  {
   "cell_type": "markdown",
   "metadata": {},
   "source": [
    "## Ejercicio 14\n",
    "Suma todos los valores del dicionario\n",
    "> ```ejer_14 = {1: 11, 2: 22, 3: 33, 4: 44, 5: 55}```"
   ]
  },
  {
   "cell_type": "code",
   "execution_count": 160,
   "metadata": {},
   "outputs": [
    {
     "data": {
      "text/plain": [
       "165"
      ]
     },
     "execution_count": 160,
     "metadata": {},
     "output_type": "execute_result"
    }
   ],
   "source": [
    "ejer_14 = {1: 11, 2: 22, 3: 33, 4: 44, 5: 55}\n",
    "\n",
    "suma = sum(ejer_14.values())\n",
    "suma"
   ]
  },
  {
   "cell_type": "markdown",
   "metadata": {},
   "source": [
    "## Ejercicio 15\n",
    "Multiplica todos los valores del diccionario\n",
    "> ```ejer_15 = {1: 11, 2: 22, 3: 33, 4: 44, 5: 55}```"
   ]
  },
  {
   "cell_type": "code",
   "execution_count": 12,
   "metadata": {},
   "outputs": [
    {
     "data": {
      "text/plain": [
       "19326120"
      ]
     },
     "execution_count": 12,
     "metadata": {},
     "output_type": "execute_result"
    }
   ],
   "source": [
    "import math\n",
    "\n",
    "ejer_14 = {1: 11, 2: 22, 3: 33, 4: 44, 5: 55}\n",
    "\n",
    "math.prod(ejer_14.values())\n",
    "\n",
    "#tmb puede hacerse con for, coger elementos y multiplicarlos"
   ]
  },
  {
   "cell_type": "markdown",
   "metadata": {},
   "source": [
    "## Ejercicio 16\n",
    "1. Crea un set de tres elementos\n",
    "2. Añade un cuarto\n",
    "3. Elimina el último elemento añadido\n",
    "4. Elimina el elemento 10, si está presente. Usa `discard()`"
   ]
  },
  {
   "cell_type": "code",
   "execution_count": 138,
   "metadata": {},
   "outputs": [
    {
     "data": {
      "text/plain": [
       "{1, 2, 3, 4}"
      ]
     },
     "execution_count": 138,
     "metadata": {},
     "output_type": "execute_result"
    }
   ],
   "source": [
    "s = {1,2,3,4}\n",
    "s.add(5)\n",
    "s.remove(5)\n",
    "s\n",
    "\n",
    "s1 ={1,2,3,7,4,5}\n",
    "s2 = {1,2,3,4}\n",
    "\n",
    "s1 | s2 #OR\n",
    "s1 & s2 \n",
    "\n",
    "# s1 & s2 #AND\n",
    "\n",
    "# 10 in s\n",
    "\n",
    "\n",
    "# #busca elementos de una lista que estén en esta otra lista\n",
    "# l1 =[1,2,3,4,5]\n",
    "# l2 = [2,3,4]\n",
    "\n",
    "# set(l1) & set(l2) #super util con set"
   ]
  },
  {
   "cell_type": "code",
   "execution_count": 85,
   "metadata": {},
   "outputs": [],
   "source": [
    "# convierte la siguiente tupla a un diccionario\n",
    "\n",
    "tupla1 = (1,2,3,4,5)\n",
    "\n",
    "d = {}\n",
    "for key,value in enumerate(tupla1):\n",
    "    d[key] = value\n",
    "\n",
    "# for key, value in enumerate(tupla1):\n",
    "#     dic1.append(key)\n",
    "#     dic1.append(value)\n",
    "# print(dic1)\n"
   ]
  }
 ],
 "metadata": {
  "kernelspec": {
   "display_name": "Python 3.7.4 64-bit",
   "language": "python",
   "name": "python3"
  },
  "language_info": {
   "codemirror_mode": {
    "name": "ipython",
    "version": 3
   },
   "file_extension": ".py",
   "mimetype": "text/x-python",
   "name": "python",
   "nbconvert_exporter": "python",
   "pygments_lexer": "ipython3",
   "version": "3.12.2"
  },
  "vscode": {
   "interpreter": {
    "hash": "90139cb9a825bf3d63f6f6704e828dbd1ff7edbd4d0c6e906a71235d6efc74af"
   }
  }
 },
 "nbformat": 4,
 "nbformat_minor": 4
}
